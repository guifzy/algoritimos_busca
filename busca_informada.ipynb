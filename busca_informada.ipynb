{
  "nbformat": 4,
  "nbformat_minor": 0,
  "metadata": {
    "colab": {
      "provenance": [],
      "toc_visible": true,
      "authorship_tag": "ABX9TyM0yz5bztOkDrHLKo3FEVpF",
      "include_colab_link": true
    },
    "kernelspec": {
      "name": "python3",
      "display_name": "Python 3"
    },
    "language_info": {
      "name": "python"
    }
  },
  "cells": [
    {
      "cell_type": "markdown",
      "metadata": {
        "id": "view-in-github",
        "colab_type": "text"
      },
      "source": [
        "<a href=\"https://colab.research.google.com/github/guifzy/algoritimos_busca/blob/main/busca_informada.ipynb\" target=\"_parent\"><img src=\"https://colab.research.google.com/assets/colab-badge.svg\" alt=\"Open In Colab\"/></a>"
      ]
    },
    {
      "cell_type": "markdown",
      "source": [
        "Este notebook tem como objetivo entender os diferentes algorítimos de busca através de um mapa de cidade, onde o objetivo é ir de Porto União e chegar em Curitiba."
      ],
      "metadata": {
        "id": "vdErVcBFX-_4"
      }
    },
    {
      "cell_type": "markdown",
      "source": [
        "# Problemática\n",
        "\n",
        "- Leva em conta as informações do problema;\n",
        "- Utiliza uma função heurística para saber qual nó será expandido;"
      ],
      "metadata": {
        "id": "LVBiDDvtTr1a"
      }
    },
    {
      "cell_type": "markdown",
      "source": [
        "# Heurística"
      ],
      "metadata": {
        "id": "al4FxcoOUBNd"
      }
    },
    {
      "cell_type": "markdown",
      "source": [
        "- Reflete a maneira como o problema será resolvido, ou seja, indica a melhor escolha que a máquina deve tomar;\n",
        "- Neste problema a heurística será a distância em linha reta e\n",
        " a distância em quilômetros até o objetivo;"
      ],
      "metadata": {
        "id": "wesimMw0UFKk"
      }
    },
    {
      "cell_type": "code",
      "execution_count": 33,
      "metadata": {
        "id": "YwDtDvkEX7JL"
      },
      "outputs": [],
      "source": [
        "class Cidade:\n",
        "  def __init__(self, nome, distancia):\n",
        "    self.nome = nome\n",
        "    self.visit = False\n",
        "    self.distancia = distancia\n",
        "    self.adjacente = []\n",
        "\n",
        "  def addcidadeAdjacente(self, vizinho):\n",
        "    self.adjacente.append(vizinho)"
      ]
    },
    {
      "cell_type": "code",
      "source": [
        "class Adjacente:\n",
        "  def __init__(self, cidade, km):\n",
        "    self.cidade = cidade\n",
        "    self.km = km\n",
        "    self.funcAvaliacao = cidade.distancia + km"
      ],
      "metadata": {
        "id": "jTedrNmLWWcv"
      },
      "execution_count": 34,
      "outputs": []
    },
    {
      "cell_type": "markdown",
      "source": [
        "# Implementando Heurística"
      ],
      "metadata": {
        "id": "brPtM4EpWYn6"
      }
    },
    {
      "cell_type": "code",
      "source": [
        "class Mapa:\n",
        "  portoUniao = Cidade(\"Porto União\", 203)\n",
        "  pauloFrontin = Cidade(\"Paulo Frontin\", 172)\n",
        "  canoinhas = Cidade(\"Canoinhas\", 141)\n",
        "  irati = Cidade(\"Irati\", 139)\n",
        "  palmeira = Cidade(\"Palmeira\", 59)\n",
        "  campoLargo = Cidade(\"Campo Largo\", 27)\n",
        "  curitiba = Cidade(\"curitiba\", 0)\n",
        "  balsaNova = Cidade(\"Balsa Nova\", 41)\n",
        "  araucaria = Cidade(\"Araucária\", 23)\n",
        "  saoJose = Cidade(\"São José dos Pinhais\", 13)\n",
        "  contenda = Cidade(\"Contenda\", 39)\n",
        "  mafra = Cidade(\"Mafra\", 94)\n",
        "  tijucas = Cidade(\"Tijucas do sul\", 56)\n",
        "  lapa = Cidade(\"Lapa\", 74)\n",
        "  saoMateus = Cidade(\"São Mateus do Sul\", 123)\n",
        "  tresBarras = Cidade(\"Três Barras\", 131)\n",
        "\n",
        "  portoUniao.addcidadeAdjacente(Adjacente(pauloFrontin, 46))\n",
        "  portoUniao.addcidadeAdjacente(Adjacente(canoinhas, 78))\n",
        "  portoUniao.addcidadeAdjacente(Adjacente(saoMateus, 87))\n",
        "\n",
        "  pauloFrontin.addcidadeAdjacente(Adjacente(portoUniao, 46))\n",
        "  pauloFrontin.addcidadeAdjacente(Adjacente(irati, 75))\n",
        "\n",
        "  canoinhas.addcidadeAdjacente(Adjacente(portoUniao, 78))\n",
        "  canoinhas.addcidadeAdjacente(Adjacente(tresBarras, 12))\n",
        "  canoinhas.addcidadeAdjacente(Adjacente(mafra, 66))\n",
        "\n",
        "  irati.addcidadeAdjacente(Adjacente(pauloFrontin, 75))\n",
        "  irati.addcidadeAdjacente(Adjacente(palmeira, 75))\n",
        "  irati.addcidadeAdjacente(Adjacente(saoMateus, 57))\n",
        "\n",
        "  palmeira.addcidadeAdjacente(Adjacente(irati, 75))\n",
        "  palmeira.addcidadeAdjacente(Adjacente(saoMateus, 77))\n",
        "  palmeira.addcidadeAdjacente(Adjacente(campoLargo, 55))\n",
        "\n",
        "  campoLargo.addcidadeAdjacente(Adjacente(palmeira, 55))\n",
        "  campoLargo.addcidadeAdjacente(Adjacente(balsaNova, 22))\n",
        "  campoLargo.addcidadeAdjacente(Adjacente(curitiba, 29))\n",
        "\n",
        "  curitiba.addcidadeAdjacente(Adjacente(campoLargo, 29))\n",
        "  curitiba.addcidadeAdjacente(Adjacente(balsaNova, 51))\n",
        "  curitiba.addcidadeAdjacente(Adjacente(araucaria, 37))\n",
        "  curitiba.addcidadeAdjacente(Adjacente(saoJose, 15))\n",
        "\n",
        "  balsaNova.addcidadeAdjacente(Adjacente(curitiba, 51))\n",
        "  balsaNova.addcidadeAdjacente(Adjacente(campoLargo, 22))\n",
        "  balsaNova.addcidadeAdjacente(Adjacente(contenda, 19))\n",
        "\n",
        "  araucaria.addcidadeAdjacente(Adjacente(curitiba, 37))\n",
        "  araucaria.addcidadeAdjacente(Adjacente(contenda, 18))\n",
        "\n",
        "  saoJose.addcidadeAdjacente(Adjacente(curitiba, 15))\n",
        "  saoJose.addcidadeAdjacente(Adjacente(tijucas, 49))\n",
        "\n",
        "  contenda.addcidadeAdjacente(Adjacente(balsaNova, 19))\n",
        "  contenda.addcidadeAdjacente(Adjacente(araucaria, 18))\n",
        "  contenda.addcidadeAdjacente(Adjacente(lapa, 26))\n",
        "\n",
        "  mafra.addcidadeAdjacente(Adjacente(tijucas, 99))\n",
        "  mafra.addcidadeAdjacente(Adjacente(lapa, 57))\n",
        "  mafra.addcidadeAdjacente(Adjacente(canoinhas, 66))\n",
        "\n",
        "  tijucas.addcidadeAdjacente(Adjacente(mafra, 99))\n",
        "  tijucas.addcidadeAdjacente(Adjacente(saoJose, 49))\n",
        "\n",
        "  lapa.addcidadeAdjacente(Adjacente(contenda, 26))\n",
        "  lapa.addcidadeAdjacente(Adjacente(saoMateus, 60))\n",
        "  lapa.addcidadeAdjacente(Adjacente(mafra, 57))\n",
        "\n",
        "  saoMateus.addcidadeAdjacente(Adjacente(palmeira, 77))\n",
        "  saoMateus.addcidadeAdjacente(Adjacente(irati, 57))\n",
        "\n",
        "  saoMateus.addcidadeAdjacente(Adjacente(lapa, 60))\n",
        "  saoMateus.addcidadeAdjacente(Adjacente(tresBarras, 43))\n",
        "  saoMateus.addcidadeAdjacente(Adjacente(portoUniao, 87))\n",
        "\n",
        "  tresBarras.addcidadeAdjacente(Adjacente(saoMateus, 43))\n",
        "  tresBarras.addcidadeAdjacente(Adjacente(canoinhas, 12))"
      ],
      "metadata": {
        "id": "GiCPrt-9WdZZ"
      },
      "execution_count": 35,
      "outputs": []
    },
    {
      "cell_type": "markdown",
      "source": [
        "**TESTES**"
      ],
      "metadata": {
        "id": "ffe2GGhrXjXR"
      }
    },
    {
      "cell_type": "code",
      "source": [
        "cidades = Mapa()"
      ],
      "metadata": {
        "id": "bhkINYh1XrKg"
      },
      "execution_count": null,
      "outputs": []
    },
    {
      "cell_type": "code",
      "source": [
        "cidades.portoUniao.nome"
      ],
      "metadata": {
        "colab": {
          "base_uri": "https://localhost:8080/",
          "height": 36
        },
        "id": "HpiG9SruXsHw",
        "outputId": "bf81db20-3f99-46fd-f3b7-7d86da48679d"
      },
      "execution_count": null,
      "outputs": [
        {
          "output_type": "execute_result",
          "data": {
            "text/plain": [
              "'Porto União'"
            ],
            "application/vnd.google.colaboratory.intrinsic+json": {
              "type": "string"
            }
          },
          "metadata": {},
          "execution_count": 9
        }
      ]
    },
    {
      "cell_type": "code",
      "source": [
        "cidades.portoUniao.visit"
      ],
      "metadata": {
        "colab": {
          "base_uri": "https://localhost:8080/"
        },
        "id": "jWma2UiZXr8x",
        "outputId": "783d1fcd-c9f9-4f07-92e7-056fdd54bedf"
      },
      "execution_count": null,
      "outputs": [
        {
          "output_type": "execute_result",
          "data": {
            "text/plain": [
              "False"
            ]
          },
          "metadata": {},
          "execution_count": 10
        }
      ]
    },
    {
      "cell_type": "code",
      "source": [
        "cidades.portoUniao.distancia"
      ],
      "metadata": {
        "colab": {
          "base_uri": "https://localhost:8080/"
        },
        "id": "RzycKMRLXwAr",
        "outputId": "07384931-1590-4452-d163-5c500fed5689"
      },
      "execution_count": null,
      "outputs": [
        {
          "output_type": "execute_result",
          "data": {
            "text/plain": [
              "203"
            ]
          },
          "metadata": {},
          "execution_count": 11
        }
      ]
    },
    {
      "cell_type": "code",
      "source": [
        "# Como temos uma lista de objetos com objeto, precisamos de chamar instancia\n",
        "# por instancia para acessar o nome dos objetos dentro da lista\n",
        "for i in range(len(cidades.portoUniao.adjacente)):\n",
        "  print(cidades.portoUniao.adjacente[i].cidade.nome)"
      ],
      "metadata": {
        "colab": {
          "base_uri": "https://localhost:8080/"
        },
        "id": "_pwAQt60XzMA",
        "outputId": "c5af6d03-5f7a-45bd-9c81-7bbe4732b9be"
      },
      "execution_count": null,
      "outputs": [
        {
          "output_type": "stream",
          "name": "stdout",
          "text": [
            "Paulo Frontin\n",
            "Canoinhas\n",
            "São Mateus do Sul\n"
          ]
        }
      ]
    },
    {
      "cell_type": "markdown",
      "source": [
        "# Ordenação do Vetor(Insertion Sort)"
      ],
      "metadata": {
        "id": "2Bihs6-MX40O"
      }
    },
    {
      "cell_type": "markdown",
      "source": [
        "- Para a execução da fila com as cidades ordenadas por pesos, se faz necessário um método de orndenação;"
      ],
      "metadata": {
        "id": "HnzV23dMYAQZ"
      }
    },
    {
      "cell_type": "code",
      "source": [
        "class Fila:\n",
        "  def __init__(self, tamanho):\n",
        "    self.cidades = [None] * tamanho\n",
        "    self.controle = 0\n",
        "\n",
        "  def inserir(self, cidade):\n",
        "    if self.controle == 0:\n",
        "      self.cidades[0] = cidade\n",
        "      self.controle = 1\n",
        "      return\n",
        "\n",
        "    i = 0\n",
        "    posicao = 0\n",
        "    while i < self.controle:\n",
        "      if cidade.distancia > self.cidades[i].distancia:\n",
        "        posicao += 1\n",
        "      i += 1\n",
        "\n",
        "    for j in range(self.controle, posicao, -1):\n",
        "      self.cidades[j] = self.cidades[j - 1]\n",
        "\n",
        "    self.cidades[posicao] = cidade\n",
        "    self.controle += 1\n",
        "\n",
        "  def getPrimeiro(self):\n",
        "    return self.cidades[0]\n",
        "\n",
        "  def imprimir(self):\n",
        "    for i in range(0, self.controle):\n",
        "      print(f\"{self.cidades[i].nome} - {self.cidades[i].distancia}, \", end=\"\")\n",
        "\n",
        "    print()"
      ],
      "metadata": {
        "id": "QSkbR4zSYXUj"
      },
      "execution_count": 24,
      "outputs": []
    },
    {
      "cell_type": "markdown",
      "source": [
        "# Busca Gulosa Informada\n",
        "\n",
        "- Busca por meio da cidade com menor valor de **distância**, através de um método de **fila**(First in First Out) com valores ordenados."
      ],
      "metadata": {
        "id": "2OEhoQ9Rm42N"
      }
    },
    {
      "cell_type": "code",
      "source": [
        "class Gulosa:\n",
        "  def __init__(self, objetivo):\n",
        "    self.objetivo = objetivo\n",
        "    self.goal = False\n",
        "\n",
        "  def busca(self, cidade):\n",
        "    print(f\"Cidade atual: {cidade.nome}\")\n",
        "    cidade.visit = True\n",
        "\n",
        "    if cidade == self.objetivo:\n",
        "      self.goal = True\n",
        "      print(\"Cidade Encontrada!\")\n",
        "      print(\"Estado de goal atingido!\")\n",
        "      return\n",
        "\n",
        "    else:\n",
        "      self.fila = Fila(len(cidade.adjacente))\n",
        "\n",
        "      for i in cidade.adjacente:\n",
        "        if i.cidade.visit == False:\n",
        "          i.cidade.visit = True\n",
        "          self.fila.inserir(i.cidade)\n",
        "      self.fila.imprimir()\n",
        "\n",
        "      if self.fila.getPrimeiro() != None:\n",
        "        self.busca(self.fila.getPrimeiro())"
      ],
      "metadata": {
        "id": "LHo0BV9HnkQb"
      },
      "execution_count": 31,
      "outputs": []
    },
    {
      "cell_type": "code",
      "source": [
        "mapa = Mapa()\n",
        "golosa = Gulosa(mapa.curitiba)\n",
        "golosa.busca(mapa.portoUniao)"
      ],
      "metadata": {
        "colab": {
          "base_uri": "https://localhost:8080/"
        },
        "id": "aVueXu6ZqfMw",
        "outputId": "9251a76e-6424-4d7a-fa60-1acb5b92e092"
      },
      "execution_count": 32,
      "outputs": [
        {
          "output_type": "stream",
          "name": "stdout",
          "text": [
            "Cidade atual: Porto União\n",
            "São Mateus do Sul - 123, Canoinhas - 141, Paulo Frontin - 172, \n",
            "Cidade atual: São Mateus do Sul\n",
            "Palmeira - 59, Lapa - 74, Três Barras - 131, Irati - 139, \n",
            "Cidade atual: Palmeira\n",
            "Campo Largo - 27, \n",
            "Cidade atual: Campo Largo\n",
            "curitiba - 0, Balsa Nova - 41, \n",
            "Cidade atual: curitiba\n",
            "Cidade Encontrada!\n",
            "Estado de goal atingido!\n"
          ]
        }
      ]
    },
    {
      "cell_type": "markdown",
      "source": [
        "# Busca A*\n",
        "- Visa encontrar o melhor caminha com base na função de avaliação:\n",
        "$$ f(n)=g(n)+h(n)$$\n",
        "- Evita a expansão de nós desnecessários"
      ],
      "metadata": {
        "id": "oXqHbFe4vsWf"
      }
    },
    {
      "cell_type": "code",
      "source": [
        "class FilaA:\n",
        "  def __init__(self, tamanho):\n",
        "    self.cidades = [None] * tamanho\n",
        "    self.controle = 0\n",
        "\n",
        "  def inserir(self, cidade):\n",
        "    if self.controle == 0:\n",
        "      self.cidades[0] = cidade\n",
        "      self.controle = 1\n",
        "      return\n",
        "\n",
        "    i = 0\n",
        "    posicao = 0\n",
        "    while i < self.controle:\n",
        "      if cidade.funcAvaliacao > self.cidades[i].funcAvaliacao:\n",
        "        posicao += 1\n",
        "      i += 1\n",
        "\n",
        "    for j in range(self.controle, posicao, -1):\n",
        "      self.cidades[j] = self.cidades[j - 1]\n",
        "\n",
        "    self.cidades[posicao] = cidade\n",
        "    self.controle += 1\n",
        "\n",
        "  def getPrimeiro(self):\n",
        "    return self.cidades[0].cidade\n",
        "\n",
        "  def imprimir(self):\n",
        "    for i in range(0, self.controle):\n",
        "      print(f\"{self.cidades[i].cidade.nome} - {self.cidades[i].funcAvaliacao}, \", end=\"\")\n",
        "\n",
        "    print()"
      ],
      "metadata": {
        "id": "_-b2kAwb29B9"
      },
      "execution_count": 36,
      "outputs": []
    },
    {
      "cell_type": "code",
      "source": [
        "class AEstrela:\n",
        "  def __init__(self, objetivo):\n",
        "    self.objetivo = objetivo\n",
        "    self.goal = False\n",
        "\n",
        "  def busca(self, cidade):\n",
        "    print(f\"Cidade atual: {cidade.nome}\")\n",
        "    cidade.visit = True\n",
        "\n",
        "    if cidade == self.objetivo:\n",
        "      self.goal = True\n",
        "      print(\"Cidade Encontrada!\")\n",
        "      print(\"Estado de goal atingido!\")\n",
        "      return\n",
        "\n",
        "    else:\n",
        "      self.fila = FilaA(len(cidade.adjacente))\n",
        "\n",
        "      for i in cidade.adjacente:\n",
        "        if i.cidade.visit == False:\n",
        "          i.cidade.visit = True\n",
        "          self.fila.inserir(i)\n",
        "      self.fila.imprimir()\n",
        "\n",
        "      if self.fila.getPrimeiro() != None:\n",
        "        self.busca(self.fila.getPrimeiro())"
      ],
      "metadata": {
        "id": "7WGi79S63XCR"
      },
      "execution_count": 39,
      "outputs": []
    },
    {
      "cell_type": "code",
      "source": [
        "mapa = Mapa()\n",
        "a = AEstrela(mapa.curitiba)\n",
        "a.busca(mapa.portoUniao)"
      ],
      "metadata": {
        "colab": {
          "base_uri": "https://localhost:8080/"
        },
        "id": "F0zMxbzy5Kww",
        "outputId": "5115e5bd-f47b-400e-b111-a124a75df5da"
      },
      "execution_count": 40,
      "outputs": [
        {
          "output_type": "stream",
          "name": "stdout",
          "text": [
            "Cidade atual: Porto União\n",
            "São Mateus do Sul - 210, \n",
            "Cidade atual: São Mateus do Sul\n",
            "Lapa - 134, Palmeira - 136, Três Barras - 174, Irati - 196, \n",
            "Cidade atual: Lapa\n",
            "Contenda - 65, Mafra - 151, \n",
            "Cidade atual: Contenda\n",
            "Araucária - 41, Balsa Nova - 60, \n",
            "Cidade atual: Araucária\n",
            "curitiba - 37, \n",
            "Cidade atual: curitiba\n",
            "Cidade Encontrada!\n",
            "Estado de goal atingido!\n"
          ]
        }
      ]
    }
  ]
}