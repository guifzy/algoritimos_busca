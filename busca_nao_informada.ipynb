{
  "nbformat": 4,
  "nbformat_minor": 0,
  "metadata": {
    "colab": {
      "provenance": [],
      "toc_visible": true,
      "mount_file_id": "1aeSAjFSTBg2nuXJwhgk-SAD8fsHYZ7L2",
      "authorship_tag": "ABX9TyOW0i4LJsEpR9NhFXh0HY9S",
      "include_colab_link": true
    },
    "kernelspec": {
      "name": "python3",
      "display_name": "Python 3"
    },
    "language_info": {
      "name": "python"
    }
  },
  "cells": [
    {
      "cell_type": "markdown",
      "metadata": {
        "id": "view-in-github",
        "colab_type": "text"
      },
      "source": [
        "<a href=\"https://colab.research.google.com/github/guifzy/algoritimos_busca/blob/main/busca_nao_informada.ipynb\" target=\"_parent\"><img src=\"https://colab.research.google.com/assets/colab-badge.svg\" alt=\"Open In Colab\"/></a>"
      ]
    },
    {
      "cell_type": "markdown",
      "source": [
        "Este notebook tem como objetivo entender os diferentes algorítimos de busca através de um mapa de cidade, omde o objetivo é ir de Porto União e chegar em Curitiba."
      ],
      "metadata": {
        "id": "x3pfi9KJyqpm"
      }
    },
    {
      "cell_type": "markdown",
      "source": [
        "# Peoblemática\n",
        "\n",
        "Espaços Determinísticos x Não Determinísticos\n",
        "\n"
      ],
      "metadata": {
        "id": "mX06IsVL1kYb"
      }
    },
    {
      "cell_type": "markdown",
      "source": [
        "- **Espaço Determinístico:** Em um espaço determinístico, cada estado do sistema leva a um único estado subsequente. Isso significa que, dado um ponto de partida e um conjunto de operações, o resultado será sempre o mesmo, não importa quantas vezes o processo seja repetido. Um exemplo disso é um algoritmo de ordenação, como o Bubble Sort. Dada uma lista específica e as regras do algoritmo, a lista será ordenada da mesma maneira todas as vezes.\n",
        "\n",
        "- **Espaço Não Determinístico:** Em contraste, um espaço não determinístico permite múltiplos estados subsequentes a partir de um único estado. Isso significa que o sistema pode evoluir de maneiras diferentes, dependendo de vários fatores, e o resultado pode ser diferente cada vez. Um exemplo disso é um algoritmo que envolve algum grau de aleatoriedade ou probabilidade, como um algoritmo de Monte Carlo."
      ],
      "metadata": {
        "id": "STv3wOIi1ui1"
      }
    },
    {
      "cell_type": "markdown",
      "source": [
        "#Implementação do Mapa"
      ],
      "metadata": {
        "id": "KrYqFsWjy-Wb"
      }
    },
    {
      "cell_type": "code",
      "execution_count": null,
      "metadata": {
        "colab": {
          "base_uri": "https://localhost:8080/"
        },
        "id": "d79q_eLm0WQf",
        "outputId": "bb3c2493-cad8-4ae7-c619-ebdd2740663c"
      },
      "outputs": [
        {
          "output_type": "stream",
          "name": "stdout",
          "text": [
            "Drive already mounted at /content/drive; to attempt to forcibly remount, call drive.mount(\"/content/drive\", force_remount=True).\n"
          ]
        }
      ],
      "source": [
        "from google.colab import drive\n",
        "drive.mount('/content/drive')"
      ]
    },
    {
      "cell_type": "code",
      "source": [
        "class Cidade:\n",
        "  def __init__(self, nome):\n",
        "    self.nome = nome\n",
        "    self.visit = False\n",
        "    self.adjacente = []\n",
        "\n",
        "  def addcidadeAdjacente(self, vizinho):\n",
        "    self.adjacente.append(vizinho)"
      ],
      "metadata": {
        "id": "3o2JrVZP1jBA"
      },
      "execution_count": 1,
      "outputs": []
    },
    {
      "cell_type": "code",
      "source": [
        "class Adjacente:\n",
        "  def __init__(self, cidade):\n",
        "    self.cidade = cidade"
      ],
      "metadata": {
        "id": "8j-td5xH05Q8"
      },
      "execution_count": 2,
      "outputs": []
    },
    {
      "cell_type": "markdown",
      "source": [
        "OBS: Ao usar o *self*, estou indicando que este atributo pertence a uma instancia única desta classe, ou seja, cada novo objeto tera uma nova variável. Ao não usar *self*, estou indicando que aquele atributo é fixo, não muda."
      ],
      "metadata": {
        "id": "kFynrjutqytl"
      }
    },
    {
      "cell_type": "code",
      "source": [
        "class Mapa:\n",
        "  portoUniao = Cidade(\"Porto União\")\n",
        "  pauloFrontin = Cidade(\"Paulo Frontin\")\n",
        "  canoinhas = Cidade(\"Canoinhas\")\n",
        "  irati = Cidade(\"Irati\")\n",
        "  palmeira = Cidade(\"Palmeira\")\n",
        "  campoLargo = Cidade(\"Campo Largo\")\n",
        "  curitiba = Cidade(\"curitiba\")\n",
        "  balsaNova = Cidade(\"Balsa Nova\")\n",
        "  araucaria = Cidade(\"Araucária\")\n",
        "  saoJose = Cidade(\"São José dos Pinhais\")\n",
        "  contenda = Cidade(\"Contenda\")\n",
        "  mafra = Cidade(\"Mafra\")\n",
        "  tijucas = Cidade(\"Tijucas do sul\")\n",
        "  lapa = Cidade(\"Lapa\")\n",
        "  saoMateus = Cidade(\"São Mateus do Sul\")\n",
        "  tresBarras = Cidade(\"Três Barras\")\n",
        "\n",
        "  portoUniao.addcidadeAdjacente(Adjacente(pauloFrontin))\n",
        "  portoUniao.addcidadeAdjacente(Adjacente(canoinhas))\n",
        "  portoUniao.addcidadeAdjacente(Adjacente(saoMateus))\n",
        "\n",
        "  pauloFrontin.addcidadeAdjacente(Adjacente(portoUniao))\n",
        "  pauloFrontin.addcidadeAdjacente(Adjacente(irati))\n",
        "\n",
        "  canoinhas.addcidadeAdjacente(Adjacente(portoUniao))\n",
        "  canoinhas.addcidadeAdjacente(Adjacente(tresBarras))\n",
        "  canoinhas.addcidadeAdjacente(Adjacente(mafra))\n",
        "\n",
        "  irati.addcidadeAdjacente(Adjacente(pauloFrontin))\n",
        "  irati.addcidadeAdjacente(Adjacente(palmeira))\n",
        "  irati.addcidadeAdjacente(Adjacente(saoMateus))\n",
        "\n",
        "  palmeira.addcidadeAdjacente(Adjacente(irati))\n",
        "  palmeira.addcidadeAdjacente(Adjacente(saoMateus))\n",
        "  palmeira.addcidadeAdjacente(Adjacente(campoLargo))\n",
        "\n",
        "  campoLargo.addcidadeAdjacente(Adjacente(palmeira))\n",
        "  campoLargo.addcidadeAdjacente(Adjacente(balsaNova))\n",
        "  campoLargo.addcidadeAdjacente(Adjacente(curitiba))\n",
        "\n",
        "  curitiba.addcidadeAdjacente(Adjacente(campoLargo))\n",
        "  curitiba.addcidadeAdjacente(Adjacente(balsaNova))\n",
        "  curitiba.addcidadeAdjacente(Adjacente(araucaria))\n",
        "  curitiba.addcidadeAdjacente(Adjacente(saoJose))\n",
        "\n",
        "  balsaNova.addcidadeAdjacente(Adjacente(curitiba))\n",
        "  balsaNova.addcidadeAdjacente(Adjacente(campoLargo))\n",
        "  balsaNova.addcidadeAdjacente(Adjacente(contenda))\n",
        "\n",
        "  araucaria.addcidadeAdjacente(Adjacente(curitiba))\n",
        "  araucaria.addcidadeAdjacente(Adjacente(contenda))\n",
        "\n",
        "  saoJose.addcidadeAdjacente(Adjacente(curitiba))\n",
        "  saoJose.addcidadeAdjacente(Adjacente(tijucas))\n",
        "\n",
        "  contenda.addcidadeAdjacente(Adjacente(balsaNova))\n",
        "  contenda.addcidadeAdjacente(Adjacente(araucaria))\n",
        "  contenda.addcidadeAdjacente(Adjacente(lapa))\n",
        "\n",
        "  mafra.addcidadeAdjacente(Adjacente(tijucas))\n",
        "  mafra.addcidadeAdjacente(Adjacente(lapa))\n",
        "  mafra.addcidadeAdjacente(Adjacente(canoinhas))\n",
        "\n",
        "  tijucas.addcidadeAdjacente(Adjacente(mafra))\n",
        "  tijucas.addcidadeAdjacente(Adjacente(saoJose))\n",
        "\n",
        "  lapa.addcidadeAdjacente(Adjacente(contenda))\n",
        "  lapa.addcidadeAdjacente(Adjacente(saoMateus))\n",
        "  lapa.addcidadeAdjacente(Adjacente(mafra))\n",
        "\n",
        "  saoMateus.addcidadeAdjacente(Adjacente(palmeira))\n",
        "  saoMateus.addcidadeAdjacente(Adjacente(irati))\n",
        "\n",
        "  saoMateus.addcidadeAdjacente(Adjacente(lapa))\n",
        "  saoMateus.addcidadeAdjacente(Adjacente(tresBarras))\n",
        "  saoMateus.addcidadeAdjacente(Adjacente(portoUniao))\n",
        "\n",
        "  tresBarras.addcidadeAdjacente(Adjacente(saoMateus))\n",
        "  tresBarras.addcidadeAdjacente(Adjacente(canoinhas))"
      ],
      "metadata": {
        "id": "IRG2r7Al2FCx"
      },
      "execution_count": 47,
      "outputs": []
    },
    {
      "cell_type": "markdown",
      "source": [
        "**TESTES:**"
      ],
      "metadata": {
        "id": "D4tJo-0hwHWl"
      }
    },
    {
      "cell_type": "code",
      "source": [
        "cidades = Mapa()"
      ],
      "metadata": {
        "id": "6fGTUkBYwJS3"
      },
      "execution_count": null,
      "outputs": []
    },
    {
      "cell_type": "code",
      "source": [
        "cidades.portoUniao.nome"
      ],
      "metadata": {
        "colab": {
          "base_uri": "https://localhost:8080/",
          "height": 36
        },
        "id": "V_4c87juwR_z",
        "outputId": "97375431-0cbd-4304-b770-b4599f895867"
      },
      "execution_count": null,
      "outputs": [
        {
          "output_type": "execute_result",
          "data": {
            "text/plain": [
              "'Porto União'"
            ],
            "application/vnd.google.colaboratory.intrinsic+json": {
              "type": "string"
            }
          },
          "metadata": {},
          "execution_count": 12
        }
      ]
    },
    {
      "cell_type": "code",
      "source": [
        "cidades.portoUniao.visit"
      ],
      "metadata": {
        "colab": {
          "base_uri": "https://localhost:8080/"
        },
        "id": "qndkyn2rwZFr",
        "outputId": "ee0daff4-08b4-4556-e731-7a4e1368d6c3"
      },
      "execution_count": null,
      "outputs": [
        {
          "output_type": "execute_result",
          "data": {
            "text/plain": [
              "False"
            ]
          },
          "metadata": {},
          "execution_count": 13
        }
      ]
    },
    {
      "cell_type": "code",
      "source": [
        "# Como temos uma lista de objetos com objeto, precisamos de chamar instancia\n",
        "# por instancia para acessar o nome dos objetos dentro da lista\n",
        "for i in range(len(cidades.portoUniao.adjacente)):\n",
        "  print(cidades.portoUniao.adjacente[i].cidade.nome)"
      ],
      "metadata": {
        "colab": {
          "base_uri": "https://localhost:8080/"
        },
        "id": "PF9oTOZAwcp4",
        "outputId": "13237a7a-87e2-447d-a336-8fc0c3717fbf"
      },
      "execution_count": null,
      "outputs": [
        {
          "output_type": "stream",
          "name": "stdout",
          "text": [
            "Paulo Frontin\n",
            "Canoinhas\n",
            "São Mateus do Sul\n"
          ]
        }
      ]
    },
    {
      "cell_type": "markdown",
      "source": [
        "# Busca sem informação\n",
        "- Não leva em conta as informações do problema"
      ],
      "metadata": {
        "id": "6UU6x9smzEYq"
      }
    },
    {
      "cell_type": "markdown",
      "source": [
        "## Pilha para controle de cidades visitadas"
      ],
      "metadata": {
        "id": "8AjiT2uZ3Yn5"
      }
    },
    {
      "cell_type": "code",
      "source": [
        "class Pilha:\n",
        "  def __init__(self, tamanho):\n",
        "    self.tamanho = tamanho\n",
        "    self.cidades = [None] * self.tamanho\n",
        "    self.topo = -1\n",
        "\n",
        "  def vazia(self):\n",
        "    return(self.topo == -1)\n",
        "\n",
        "  def cheia(self):\n",
        "    return(self.topo == self.tamanho - 1)\n",
        "\n",
        "  def empilha(self, cidade):\n",
        "    if not Pilha.cheia(self):\n",
        "      self.topo += 1\n",
        "      self.cidades[self.topo] = cidade\n",
        "    else: print(\"A pilha está cheia!\")\n",
        "\n",
        "  def desempilha(self):\n",
        "    if not Pilha.vazia(self):\n",
        "      temp = self.cidades[self.topo]\n",
        "      self.topo -= 1\n",
        "      return temp\n",
        "\n",
        "    else:\n",
        "      print(\"A pilha está vazia!\")\n",
        "      return None\n",
        "\n",
        "  def getTopo(self):\n",
        "    return self.cidades[self.topo]\n"
      ],
      "metadata": {
        "id": "p1IjKrjLxOgX"
      },
      "execution_count": null,
      "outputs": []
    },
    {
      "cell_type": "markdown",
      "source": [
        "## Busca em Profundidade"
      ],
      "metadata": {
        "id": "MtIx-DLj8vBq"
      }
    },
    {
      "cell_type": "markdown",
      "source": [
        ">Busca de forma exaustiva por todos os elementos em linha até encontrar o elemento mais **profundo** do grafo e entrar em estado de **goal**.\n",
        "\n",
        ">Caso ele não entre em **goal** com o elemento mais profundo, o último elemento é **desempilhado** e a busca continua a partir dele até seu **nó** mais profundo."
      ],
      "metadata": {
        "id": "wW1FkbQwF07v"
      }
    },
    {
      "cell_type": "code",
      "source": [
        "\n",
        "class Profundidade:\n",
        "  def __init__(self, inicio, objetivo):\n",
        "    self.inicio = inicio\n",
        "    self.inicio.visit = True\n",
        "    self.objetivo = objetivo\n",
        "    self.fronteira = Pilha(20)\n",
        "    self.fronteira.empilha(inicio)\n",
        "    self.goal = False\n",
        "\n",
        "  def buscar(self):\n",
        "    topo = self.fronteira.getTopo()\n",
        "    print(f\"Cidade: {topo.nome}\")\n",
        "\n",
        "    if topo == self.objetivo:\n",
        "      self.goal = True\n",
        "\n",
        "    else:\n",
        "      for i in topo.adjacente:\n",
        "        if self.goal == False:\n",
        "          print(f\"Verificando se {i.cidade.nome} foi visitado.\")\n",
        "\n",
        "          if i.cidade.visit == False:\n",
        "            i.cidade.visit = True\n",
        "            self.fronteira.empilha(i.cidade)\n",
        "            Profundidade.buscar(self)\n",
        "          else: print(f\"{i.cidade.nome} já foi visitado.\")\n",
        "\n",
        "    print(f\"Cidade desemplhada: {self.fronteira.desempilha().nome}\")\n"
      ],
      "metadata": {
        "id": "mz7bzYZVq4Ot"
      },
      "execution_count": null,
      "outputs": []
    },
    {
      "cell_type": "code",
      "source": [
        "cidades = Mapa()\n",
        "busca = Profundidade(cidades.portoUniao, cidades.curitiba)"
      ],
      "metadata": {
        "id": "HTZ7oV7ctozu"
      },
      "execution_count": null,
      "outputs": []
    },
    {
      "cell_type": "code",
      "source": [
        "busca.buscar()"
      ],
      "metadata": {
        "colab": {
          "base_uri": "https://localhost:8080/"
        },
        "id": "XY7i459AuUcU",
        "outputId": "a1e3de07-8674-4e30-c169-5d22fc8dcf24"
      },
      "execution_count": null,
      "outputs": [
        {
          "output_type": "stream",
          "name": "stdout",
          "text": [
            "Cidade: Porto União\n",
            "Verificando se Paulo Frontin foi visitado.\n",
            "Cidade: Paulo Frontin\n",
            "Verificando se Porto União foi visitado.\n",
            "Porto União já foi visitado.\n",
            "Verificando se Irati foi visitado.\n",
            "Cidade: Irati\n",
            "Verificando se Paulo Frontin foi visitado.\n",
            "Paulo Frontin já foi visitado.\n",
            "Verificando se Palmeira foi visitado.\n",
            "Cidade: Palmeira\n",
            "Verificando se Irati foi visitado.\n",
            "Irati já foi visitado.\n",
            "Verificando se São Mateus do Sul foi visitado.\n",
            "Cidade: São Mateus do Sul\n",
            "Verificando se Palmeira foi visitado.\n",
            "Palmeira já foi visitado.\n",
            "Verificando se Irati foi visitado.\n",
            "Irati já foi visitado.\n",
            "Verificando se Lapa foi visitado.\n",
            "Cidade: Lapa\n",
            "Verificando se Contenda foi visitado.\n",
            "Cidade: Contenda\n",
            "Verificando se Balsa Nova foi visitado.\n",
            "Cidade: Balsa Nova\n",
            "Verificando se curitiba foi visitado.\n",
            "Cidade: curitiba\n",
            "Cidade desemplhada: curitiba\n",
            "Cidade desemplhada: Balsa Nova\n",
            "Cidade desemplhada: Contenda\n",
            "Cidade desemplhada: Lapa\n",
            "Cidade desemplhada: São Mateus do Sul\n",
            "Cidade desemplhada: Palmeira\n",
            "Cidade desemplhada: Irati\n",
            "Cidade desemplhada: Paulo Frontin\n",
            "Cidade desemplhada: Porto União\n"
          ]
        }
      ]
    },
    {
      "cell_type": "markdown",
      "source": [
        "##Fila Circular"
      ],
      "metadata": {
        "id": "KUnalPQF97hm"
      }
    },
    {
      "cell_type": "markdown",
      "source": [
        "Usaremos uma fila como estrutura de dados príncipal para implemtar uma algoritimo de busca por largura."
      ],
      "metadata": {
        "id": "OFjiT13U3y01"
      }
    },
    {
      "cell_type": "code",
      "source": [
        "class Fila:\n",
        "  def __init__(self, tamanho):\n",
        "    self.tamanho = tamanho\n",
        "    self.elementos = [None]*self.tamanho\n",
        "    self.inicio = 0\n",
        "    self.fim = -1\n",
        "    self.controle = 0\n",
        "\n",
        "  def enfileirar(self, cidade):\n",
        "    if not Fila.cheio(self):\n",
        "    # Verificar se a lista chegou ao último elemento alocado, caso tenha chego,\n",
        "    # a fila continua o enfileiramento pela primeira posição\n",
        "      if self.fim == self.tamanho - 1:\n",
        "        self.fim = -1\n",
        "\n",
        "    # O parametro do fim é atualizado para posição do último da lista\n",
        "      self.fim += 1\n",
        "      self.elementos[self.fim] = cidade\n",
        "      self.controle += 1\n",
        "\n",
        "    else: print(\"A fila está cheia.\")\n",
        "\n",
        "  def desenfileirar(self):\n",
        "    if not Fila.vazio(self):\n",
        "\n",
        "      temp = self.elementos[self.inicio]\n",
        "      # Move o ponteiro para o novo inicio\n",
        "      self.inicio += 1\n",
        "      # Caso este seja o ultimo espaço alocado na fila, ele volta para o começo\n",
        "      if self.inicio == self.tamanho:\n",
        "        self.inico = 0\n",
        "      self.controle -= 1\n",
        "      return temp\n",
        "\n",
        "    else:\n",
        "      print(\"A fila está vazia.\")\n",
        "      return None\n",
        "\n",
        "  def getFirst(self):\n",
        "    return self.elementos[self.inicio]\n",
        "\n",
        "  def cheio(self):\n",
        "    return self.controle == self.tamanho\n",
        "\n",
        "  def vazio(self):\n",
        "    return self.controle == 0\n",
        "\n"
      ],
      "metadata": {
        "id": "vb_suy203nNX"
      },
      "execution_count": 20,
      "outputs": []
    },
    {
      "cell_type": "markdown",
      "source": [
        "## Buca por Largura"
      ],
      "metadata": {
        "id": "RcUiyKj4GKLp"
      }
    },
    {
      "cell_type": "markdown",
      "source": [
        ">Busca de forma exaustiva os elementos por **nós**, até o último nó ou entrar em estado de **goal**.\n",
        "\n",
        ">Esta busca percorre todos os **elementos de um nó** de forma **sequêncial**, formando uma **fila de nós** a serem percorridos, desenfileirando os nós com elementos já visitados."
      ],
      "metadata": {
        "id": "9wmmI9S3GNnK"
      }
    },
    {
      "cell_type": "code",
      "source": [
        "class Largura:\n",
        "  def __init__(self, inicio, objetivo):\n",
        "    self.inicio = inicio\n",
        "    self.objetivo = objetivo\n",
        "    self.inicio.visit = True\n",
        "    self.fronteira = Fila(20)\n",
        "    self.fronteira.enfileirar(inicio)\n",
        "    self.goal = False\n",
        "\n",
        "\n",
        "  def buscar(self):\n",
        "    atual = self.fronteira.getFirst()\n",
        "    print(f\"Elemento atual: {atual.nome}\")\n",
        "\n",
        "    if atual == self.objetivo:\n",
        "      self.goal = True\n",
        "      print(f\"Estado de goal alcançado.\")\n",
        "\n",
        "    else:\n",
        "      temp = self.fronteira.desenfileirar()\n",
        "      print(f\"Cidade desenfileirada: {temp.nome}\")\n",
        "\n",
        "      for a in atual.adjacente:\n",
        "        print(f\"Verificando se {a.cidade.nome} já foi visitada.\")\n",
        "        if a.cidade.visit == False:\n",
        "          a.cidade.visit = True\n",
        "          self.fronteira.enfileirar(a.cidade)\n",
        "          print(f\"{a.cidade.nome} foi enfileirado.\")\n",
        "        else: print(f\"{a.cidade.nome} já foi visitado\")\n",
        "\n",
        "      if self.fronteira.controle > 0:\n",
        "        Largura.buscar(self)"
      ],
      "metadata": {
        "id": "89b3kUQQKVKd"
      },
      "execution_count": 48,
      "outputs": []
    },
    {
      "cell_type": "code",
      "source": [
        "cidades = Mapa()\n",
        "busca = Largura(cidades.portoUniao, cidades.irati)"
      ],
      "metadata": {
        "id": "EceOuFeZPOGA"
      },
      "execution_count": 49,
      "outputs": []
    },
    {
      "cell_type": "code",
      "source": [
        "busca.buscar()"
      ],
      "metadata": {
        "colab": {
          "base_uri": "https://localhost:8080/"
        },
        "id": "Vz7CEK1rPWZ8",
        "outputId": "97b12c2b-8090-4e7c-b256-8e4317d8dc29"
      },
      "execution_count": 50,
      "outputs": [
        {
          "output_type": "stream",
          "name": "stdout",
          "text": [
            "Elemento atual: Porto União\n",
            "Cidade desenfileirada: Porto União\n",
            "Verificando se Paulo Frontin já foi visitada.\n",
            "Paulo Frontin foi enfileirado.\n",
            "Verificando se Canoinhas já foi visitada.\n",
            "Canoinhas foi enfileirado.\n",
            "Verificando se São Mateus do Sul já foi visitada.\n",
            "São Mateus do Sul foi enfileirado.\n",
            "Elemento atual: Paulo Frontin\n",
            "Cidade desenfileirada: Paulo Frontin\n",
            "Verificando se Porto União já foi visitada.\n",
            "Porto União já foi visitado\n",
            "Verificando se Irati já foi visitada.\n",
            "Irati foi enfileirado.\n",
            "Elemento atual: Canoinhas\n",
            "Cidade desenfileirada: Canoinhas\n",
            "Verificando se Porto União já foi visitada.\n",
            "Porto União já foi visitado\n",
            "Verificando se Três Barras já foi visitada.\n",
            "Três Barras foi enfileirado.\n",
            "Verificando se Mafra já foi visitada.\n",
            "Mafra foi enfileirado.\n",
            "Elemento atual: São Mateus do Sul\n",
            "Cidade desenfileirada: São Mateus do Sul\n",
            "Verificando se Palmeira já foi visitada.\n",
            "Palmeira foi enfileirado.\n",
            "Verificando se Irati já foi visitada.\n",
            "Irati já foi visitado\n",
            "Verificando se Lapa já foi visitada.\n",
            "Lapa foi enfileirado.\n",
            "Verificando se Três Barras já foi visitada.\n",
            "Três Barras já foi visitado\n",
            "Verificando se Porto União já foi visitada.\n",
            "Porto União já foi visitado\n",
            "Elemento atual: Irati\n",
            "Estado de goal alcançado.\n"
          ]
        }
      ]
    }
  ]
}